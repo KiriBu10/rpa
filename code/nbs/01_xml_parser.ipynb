{
 "cells": [
  {
   "cell_type": "code",
   "execution_count": 2,
   "metadata": {},
   "outputs": [],
   "source": [
    "import os\n",
    "import xml.etree.ElementTree as ET"
   ]
  },
  {
   "cell_type": "code",
   "execution_count": 3,
   "metadata": {},
   "outputs": [
    {
     "data": {
      "text/plain": [
       "'/Users/kiranbusch/Documents/KLU/OneDrive - Kühne Logistics University/project collab mannheim/git/code/nbs'"
      ]
     },
     "execution_count": 3,
     "metadata": {},
     "output_type": "execute_result"
    }
   ],
   "source": [
    "os.path.abspath(os.getcwd())"
   ]
  },
  {
   "cell_type": "code",
   "execution_count": 4,
   "metadata": {},
   "outputs": [
    {
     "data": {
      "text/plain": [
       "45"
      ]
     },
     "execution_count": 4,
     "metadata": {},
     "output_type": "execute_result"
    }
   ],
   "source": [
    "path = '/Users/kiranbusch/Documents/KLU/OneDrive - Kühne Logistics University/project collab mannheim/git/src/datasets/datasets for tagging/dropbox_henrik/xmlfiles'\n",
    "len(os.listdir(path))"
   ]
  },
  {
   "cell_type": "code",
   "execution_count": 27,
   "metadata": {},
   "outputs": [],
   "source": [
    "final_result = []\n",
    "labels=[]\n",
    "im_urls=[]\n",
    "descriptions=[]\n",
    "for xml_file in os.listdir(path):\n",
    "    xml_file_path = f'../../src/datasets/datasets for tagging/dropbox_henrik/xmlfiles/{xml_file}'\n",
    "    #print(xml_file)\n",
    "    tree = ET.parse(xml_file_path)\n",
    "    root = tree.getroot()\n",
    "    for i in root.iter('activity'):\n",
    "        labels.append(i.find('label').text)\n",
    "        im_urls.append(xml_file.split('.')[0]+'.pdf')\n",
    "        for child in root:\n",
    "            if child.tag == 'text':\n",
    "                descriptions.append(child.text)\n",
    "final_result={'labels':labels, 'im_url':im_urls,'description':descriptions}\n",
    "        "
   ]
  },
  {
   "cell_type": "code",
   "execution_count": 28,
   "metadata": {},
   "outputs": [],
   "source": [
    "import pandas as pd\n",
    "df=pd.DataFrame(final_result)"
   ]
  },
  {
   "cell_type": "code",
   "execution_count": 29,
   "metadata": {},
   "outputs": [
    {
     "data": {
      "text/html": [
       "<div>\n",
       "<style scoped>\n",
       "    .dataframe tbody tr th:only-of-type {\n",
       "        vertical-align: middle;\n",
       "    }\n",
       "\n",
       "    .dataframe tbody tr th {\n",
       "        vertical-align: top;\n",
       "    }\n",
       "\n",
       "    .dataframe thead th {\n",
       "        text-align: right;\n",
       "    }\n",
       "</style>\n",
       "<table border=\"1\" class=\"dataframe\">\n",
       "  <thead>\n",
       "    <tr style=\"text-align: right;\">\n",
       "      <th></th>\n",
       "      <th>labels</th>\n",
       "      <th>im_url</th>\n",
       "      <th>description</th>\n",
       "    </tr>\n",
       "  </thead>\n",
       "  <tbody>\n",
       "    <tr>\n",
       "      <th>0</th>\n",
       "      <td>start</td>\n",
       "      <td>Model3-1.pdf</td>\n",
       "      <td>\\nThe party sends a warrant possession request...</td>\n",
       "    </tr>\n",
       "    <tr>\n",
       "      <th>1</th>\n",
       "      <td>Retrieve SCT file</td>\n",
       "      <td>Model3-1.pdf</td>\n",
       "      <td>\\nThe party sends a warrant possession request...</td>\n",
       "    </tr>\n",
       "    <tr>\n",
       "      <th>2</th>\n",
       "      <td>Distribute SCT warrant possession</td>\n",
       "      <td>Model3-1.pdf</td>\n",
       "      <td>\\nThe party sends a warrant possession request...</td>\n",
       "    </tr>\n",
       "    <tr>\n",
       "      <th>3</th>\n",
       "      <td>Store SCT physical file</td>\n",
       "      <td>Model3-1.pdf</td>\n",
       "      <td>\\nThe party sends a warrant possession request...</td>\n",
       "    </tr>\n",
       "    <tr>\n",
       "      <th>4</th>\n",
       "      <td>Retrieve SCT file</td>\n",
       "      <td>Model3-1.pdf</td>\n",
       "      <td>\\nThe party sends a warrant possession request...</td>\n",
       "    </tr>\n",
       "    <tr>\n",
       "      <th>...</th>\n",
       "      <td>...</td>\n",
       "      <td>...</td>\n",
       "      <td>...</td>\n",
       "    </tr>\n",
       "    <tr>\n",
       "      <th>407</th>\n",
       "      <td>start</td>\n",
       "      <td>Model10-1.pdf</td>\n",
       "      <td>\\nThe MPON sents the dismissal to the MPOO. Th...</td>\n",
       "    </tr>\n",
       "    <tr>\n",
       "      <th>408</th>\n",
       "      <td>Conduct dismissal</td>\n",
       "      <td>Model10-1.pdf</td>\n",
       "      <td>\\nThe MPON sents the dismissal to the MPOO. Th...</td>\n",
       "    </tr>\n",
       "    <tr>\n",
       "      <th>409</th>\n",
       "      <td>Review</td>\n",
       "      <td>Model10-1.pdf</td>\n",
       "      <td>\\nThe MPON sents the dismissal to the MPOO. Th...</td>\n",
       "    </tr>\n",
       "    <tr>\n",
       "      <th>410</th>\n",
       "      <td>Reject the dismissal</td>\n",
       "      <td>Model10-1.pdf</td>\n",
       "      <td>\\nThe MPON sents the dismissal to the MPOO. Th...</td>\n",
       "    </tr>\n",
       "    <tr>\n",
       "      <th>411</th>\n",
       "      <td>Confirm the dismissal</td>\n",
       "      <td>Model10-1.pdf</td>\n",
       "      <td>\\nThe MPON sents the dismissal to the MPOO. Th...</td>\n",
       "    </tr>\n",
       "  </tbody>\n",
       "</table>\n",
       "<p>412 rows × 3 columns</p>\n",
       "</div>"
      ],
      "text/plain": [
       "                                labels         im_url  \\\n",
       "0                                start   Model3-1.pdf   \n",
       "1                    Retrieve SCT file   Model3-1.pdf   \n",
       "2    Distribute SCT warrant possession   Model3-1.pdf   \n",
       "3              Store SCT physical file   Model3-1.pdf   \n",
       "4                    Retrieve SCT file   Model3-1.pdf   \n",
       "..                                 ...            ...   \n",
       "407                              start  Model10-1.pdf   \n",
       "408                  Conduct dismissal  Model10-1.pdf   \n",
       "409                             Review  Model10-1.pdf   \n",
       "410               Reject the dismissal  Model10-1.pdf   \n",
       "411              Confirm the dismissal  Model10-1.pdf   \n",
       "\n",
       "                                           description  \n",
       "0    \\nThe party sends a warrant possession request...  \n",
       "1    \\nThe party sends a warrant possession request...  \n",
       "2    \\nThe party sends a warrant possession request...  \n",
       "3    \\nThe party sends a warrant possession request...  \n",
       "4    \\nThe party sends a warrant possession request...  \n",
       "..                                                 ...  \n",
       "407  \\nThe MPON sents the dismissal to the MPOO. Th...  \n",
       "408  \\nThe MPON sents the dismissal to the MPOO. Th...  \n",
       "409  \\nThe MPON sents the dismissal to the MPOO. Th...  \n",
       "410  \\nThe MPON sents the dismissal to the MPOO. Th...  \n",
       "411  \\nThe MPON sents the dismissal to the MPOO. Th...  \n",
       "\n",
       "[412 rows x 3 columns]"
      ]
     },
     "execution_count": 29,
     "metadata": {},
     "output_type": "execute_result"
    }
   ],
   "source": [
    "df"
   ]
  },
  {
   "cell_type": "code",
   "execution_count": 30,
   "metadata": {},
   "outputs": [],
   "source": [
    "df.to_csv('../../src/datasets/datasets for tagging/dropbox_henrik/csv/xml_models.csv')"
   ]
  },
  {
   "cell_type": "code",
   "execution_count": null,
   "metadata": {},
   "outputs": [],
   "source": []
  }
 ],
 "metadata": {
  "interpreter": {
   "hash": "82f297eb6bc397f0ad5492d2b9b5b7d0cc8237fc52500bf14e4e2453ad84b23c"
  },
  "kernelspec": {
   "display_name": "Python 3.8.9 64-bit ('rpa_mac': venv)",
   "language": "python",
   "name": "python3"
  },
  "language_info": {
   "codemirror_mode": {
    "name": "ipython",
    "version": 3
   },
   "file_extension": ".py",
   "mimetype": "text/x-python",
   "name": "python",
   "nbconvert_exporter": "python",
   "pygments_lexer": "ipython3",
   "version": "3.8.9"
  },
  "orig_nbformat": 4
 },
 "nbformat": 4,
 "nbformat_minor": 2
}
